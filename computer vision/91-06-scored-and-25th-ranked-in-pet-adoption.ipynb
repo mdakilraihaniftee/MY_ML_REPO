{
 "cells": [
  {
   "cell_type": "markdown",
   "metadata": {
    "papermill": {
     "duration": 0.056403,
     "end_time": "2023-01-13T09:04:09.761285",
     "exception": false,
     "start_time": "2023-01-13T09:04:09.704882",
     "status": "completed"
    },
    "tags": []
   },
   "source": [
    "# A baseline model for the begineers "
   ]
  },
  {
   "cell_type": "markdown",
   "metadata": {
    "papermill": {
     "duration": 0.054371,
     "end_time": "2023-01-13T09:04:09.870556",
     "exception": false,
     "start_time": "2023-01-13T09:04:09.816185",
     "status": "completed"
    },
    "tags": []
   },
   "source": [
    "* MD AKIL RAIHAN IFTEE.\n",
    "* COMPUTER SCIENCE AND ENGINEERING.\n",
    "* KHULNA UNIVERSITY OF ENGINEERING AND TECHENOLOGY, BANGLADESH\n",
    "* YEAR: 2ND (UNDERGRADUATE B.Sc.)"
   ]
  },
  {
   "cell_type": "markdown",
   "metadata": {
    "papermill": {
     "duration": 0.051976,
     "end_time": "2023-01-13T09:04:09.975326",
     "exception": false,
     "start_time": "2023-01-13T09:04:09.923350",
     "status": "completed"
    },
    "tags": []
   },
   "source": [
    "* I am new to data science. This is my 2nd competetion of machine learing challenge. If I score better than this, I will keep updating it.\n",
    "* It is also my first notebook in my life. So, if I made any mistake, please feel free to correct me."
   ]
  },
  {
   "cell_type": "code",
   "execution_count": null,
   "metadata": {
    "papermill": {
     "duration": 0.053379,
     "end_time": "2023-01-13T09:04:10.082607",
     "exception": false,
     "start_time": "2023-01-13T09:04:10.029228",
     "status": "completed"
    },
    "tags": []
   },
   "outputs": [],
   "source": []
  },
  {
   "cell_type": "markdown",
   "metadata": {
    "papermill": {
     "duration": 0.053907,
     "end_time": "2023-01-13T09:04:10.190194",
     "exception": false,
     "start_time": "2023-01-13T09:04:10.136287",
     "status": "completed"
    },
    "tags": []
   },
   "source": [
    "# 91.06581 scored and 25 ranked"
   ]
  },
  {
   "attachments": {
    "image.png": {
     "image/png": "[encoded data removed]"
    }
   },
   "cell_type": "markdown",
   "metadata": {
    "papermill": {
     "duration": 0.052776,
     "end_time": "2023-01-13T09:04:10.296560",
     "exception": false,
     "start_time": "2023-01-13T09:04:10.243784",
     "status": "completed"
    },
    "tags": []
   },
   "source": [
    "![image.png](attachment:image.png)"
   ]
  },
  {
   "cell_type": "code",
   "execution_count": null,
   "metadata": {
    "papermill": {
     "duration": 0.056508,
     "end_time": "2023-01-13T09:04:10.407010",
     "exception": false,
     "start_time": "2023-01-13T09:04:10.350502",
     "status": "completed"
    },
    "tags": []
   },
   "outputs": [],
   "source": []
  },
  {
   "cell_type": "markdown",
   "metadata": {
    "papermill": {
     "duration": 0.054713,
     "end_time": "2023-01-13T09:04:10.516150",
     "exception": false,
     "start_time": "2023-01-13T09:04:10.461437",
     "status": "completed"
    },
    "tags": []
   },
   "source": [
    "* It is a multi-label or multi output classification problem. You have to predict two labels: 'breed_catagory' and 'pet_catagory'.\n",
    "* Formally, multi-label classification is the approach of finding a model that maps inputs, x to binary vectors, y (assigning a value of 0 or 1 for each element (label) in y).\n",
    "* How to solve it??\n",
    "* The best solution here is to train two models.\n",
    "1. Build one classification model and predict the output.\n",
    "2. Use the predicted output of 1st model as input feature to 2nd model.\n",
    "* you can also try multi-class classification i.e., predicting both labels simultaneously, but it will give you poor score."
   ]
  },
  {
   "cell_type": "code",
   "execution_count": 1,
   "metadata": {
    "_cell_guid": "b1076dfc-b9ad-4769-8c92-a6c4dae69d19",
    "_uuid": "8f2839f25d086af736a60e9eeb907d3b93b6e0e5",
    "execution": {
     "iopub.execute_input": "2023-01-13T09:04:10.633140Z",
     "iopub.status.busy": "2023-01-13T09:04:10.629317Z",
     "iopub.status.idle": "2023-01-13T09:04:10.644319Z",
     "shell.execute_reply": "2023-01-13T09:04:10.643345Z"
    },
    "papermill": {
     "duration": 0.072835,
     "end_time": "2023-01-13T09:04:10.644632",
     "exception": false,
     "start_time": "2023-01-13T09:04:10.571797",
     "status": "completed"
    },
    "tags": []
   },
   "outputs": [
    {
     "name": "stdout",
     "output_type": "stream",
     "text": [
      "/kaggle/input/hackerearth-ml-challenge-pet-adoption/train.csv\n",
      "/kaggle/input/hackerearth-ml-challenge-pet-adoption/test.csv\n"
     ]
    }
   ],
   "source": [
    "# This Python 3 environment comes with many helpful analytics libraries installed\n",
    "# It is defined by the kaggle/python Docker image: https://github.com/kaggle/docker-python\n",
    "# For example, here are several helpful packages to load\n",
    "\n",
    "import numpy as np # linear algebra\n",
    "import pandas as pd # data processing, CSV file I/O (e.g. pd.read_csv)\n",
    "\n",
    "# Input data files are available in the read-only \"../input/\" directory\n",
    "# For example, running this (by clicking run or pressing Shift+Enter) will list all files under the input directory\n",
    "\n",
    "import os\n",
    "for dirname, _, filenames in os.walk('/kaggle/input'):\n",
    "    for filename in filenames:\n",
    "        print(os.path.join(dirname, filename))\n",
    "\n",
    "# You can write up to 5GB to the current directory (/kaggle/working/) that gets preserved as output when you create a version using \"Save & Run All\" \n",
    "# You can also write temporary files to /kaggle/temp/, but they won't be saved outside of the current session"
   ]
  },
  {
   "cell_type": "code",
   "execution_count": 2,
   "metadata": {
    "_cell_guid": "79c7e3d0-c299-4dcb-8224-4455121ee9b0",
    "_uuid": "d629ff2d2480ee46fbb7e2d37f6b5fab8052498a",
    "execution": {
     "iopub.execute_input": "2023-01-13T09:04:10.764844Z",
     "iopub.status.busy": "2023-01-13T09:04:10.764001Z",
     "iopub.status.idle": "2023-01-13T09:04:10.893523Z",
     "shell.execute_reply": "2023-01-13T09:04:10.892768Z"
    },
    "papermill": {
     "duration": 0.192158,
     "end_time": "2023-01-13T09:04:10.893693",
     "exception": false,
     "start_time": "2023-01-13T09:04:10.701535",
     "status": "completed"
    },
    "tags": []
   },
   "outputs": [
    {
     "data": {
      "text/html": [
       "<div>\n",
       "<style scoped>\n",
       "    .dataframe tbody tr th:only-of-type {\n",
       "        vertical-align: middle;\n",
       "    }\n",
       "\n",
       "    .dataframe tbody tr th {\n",
       "        vertical-align: top;\n",
       "    }\n",
       "\n",
       "    .dataframe thead th {\n",
       "        text-align: right;\n",
       "    }\n",
       "</style>\n",
       "<table border=\"1\" class=\"dataframe\">\n",
       "  <thead>\n",
       "    <tr style=\"text-align: right;\">\n",
       "      <th></th>\n",
       "      <th>pet_id</th>\n",
       "      <th>issue_date</th>\n",
       "      <th>listing_date</th>\n",
       "      <th>condition</th>\n",
       "      <th>color_type</th>\n",
       "      <th>length(m)</th>\n",
       "      <th>height(cm)</th>\n",
       "      <th>X1</th>\n",
       "      <th>X2</th>\n",
       "      <th>breed_category</th>\n",
       "      <th>pet_category</th>\n",
       "    </tr>\n",
       "  </thead>\n",
       "  <tbody>\n",
       "    <tr>\n",
       "      <th>0</th>\n",
       "      <td>ANSL_69903</td>\n",
       "      <td>2016-07-10 00:00:00</td>\n",
       "      <td>2016-09-21 16:25:00</td>\n",
       "      <td>2.0</td>\n",
       "      <td>Brown Tabby</td>\n",
       "      <td>0.80</td>\n",
       "      <td>7.78</td>\n",
       "      <td>13</td>\n",
       "      <td>9</td>\n",
       "      <td>0.0</td>\n",
       "      <td>1</td>\n",
       "    </tr>\n",
       "    <tr>\n",
       "      <th>1</th>\n",
       "      <td>ANSL_66892</td>\n",
       "      <td>2013-11-21 00:00:00</td>\n",
       "      <td>2018-12-27 17:47:00</td>\n",
       "      <td>1.0</td>\n",
       "      <td>White</td>\n",
       "      <td>0.72</td>\n",
       "      <td>14.19</td>\n",
       "      <td>13</td>\n",
       "      <td>9</td>\n",
       "      <td>0.0</td>\n",
       "      <td>2</td>\n",
       "    </tr>\n",
       "    <tr>\n",
       "      <th>2</th>\n",
       "      <td>ANSL_69750</td>\n",
       "      <td>2014-09-28 00:00:00</td>\n",
       "      <td>2016-10-19 08:24:00</td>\n",
       "      <td>NaN</td>\n",
       "      <td>Brown</td>\n",
       "      <td>0.15</td>\n",
       "      <td>40.90</td>\n",
       "      <td>15</td>\n",
       "      <td>4</td>\n",
       "      <td>2.0</td>\n",
       "      <td>4</td>\n",
       "    </tr>\n",
       "    <tr>\n",
       "      <th>3</th>\n",
       "      <td>ANSL_71623</td>\n",
       "      <td>2016-12-31 00:00:00</td>\n",
       "      <td>2019-01-25 18:30:00</td>\n",
       "      <td>1.0</td>\n",
       "      <td>White</td>\n",
       "      <td>0.62</td>\n",
       "      <td>17.82</td>\n",
       "      <td>0</td>\n",
       "      <td>1</td>\n",
       "      <td>0.0</td>\n",
       "      <td>2</td>\n",
       "    </tr>\n",
       "    <tr>\n",
       "      <th>4</th>\n",
       "      <td>ANSL_57969</td>\n",
       "      <td>2017-09-28 00:00:00</td>\n",
       "      <td>2017-11-19 09:38:00</td>\n",
       "      <td>2.0</td>\n",
       "      <td>Black</td>\n",
       "      <td>0.50</td>\n",
       "      <td>11.06</td>\n",
       "      <td>18</td>\n",
       "      <td>4</td>\n",
       "      <td>0.0</td>\n",
       "      <td>1</td>\n",
       "    </tr>\n",
       "  </tbody>\n",
       "</table>\n",
       "</div>"
      ],
      "text/plain": [
       "       pet_id           issue_date         listing_date  condition  \\\n",
       "0  ANSL_69903  2016-07-10 00:00:00  2016-09-21 16:25:00        2.0   \n",
       "1  ANSL_66892  2013-11-21 00:00:00  2018-12-27 17:47:00        1.0   \n",
       "2  ANSL_69750  2014-09-28 00:00:00  2016-10-19 08:24:00        NaN   \n",
       "3  ANSL_71623  2016-12-31 00:00:00  2019-01-25 18:30:00        1.0   \n",
       "4  ANSL_57969  2017-09-28 00:00:00  2017-11-19 09:38:00        2.0   \n",
       "\n",
       "    color_type  length(m)  height(cm)  X1  X2  breed_category  pet_category  \n",
       "0  Brown Tabby       0.80        7.78  13   9             0.0             1  \n",
       "1        White       0.72       14.19  13   9             0.0             2  \n",
       "2        Brown       0.15       40.90  15   4             2.0             4  \n",
       "3        White       0.62       17.82   0   1             0.0             2  \n",
       "4        Black       0.50       11.06  18   4             0.0             1  "
      ]
     },
     "execution_count": 2,
     "metadata": {},
     "output_type": "execute_result"
    }
   ],
   "source": [
    "train=pd.read_csv(\"../input/hackerearth-ml-challenge-pet-adoption/train.csv\")\n",
    "test=pd.read_csv(\"../input/hackerearth-ml-challenge-pet-adoption/test.csv\")\n",
    "train.head()"
   ]
  },
  {
   "cell_type": "code",
   "execution_count": 3,
   "metadata": {
    "execution": {
     "iopub.execute_input": "2023-01-13T09:04:11.031488Z",
     "iopub.status.busy": "2023-01-13T09:04:11.030697Z",
     "iopub.status.idle": "2023-01-13T09:04:11.033751Z",
     "shell.execute_reply": "2023-01-13T09:04:11.034289Z"
    },
    "papermill": {
     "duration": 0.079259,
     "end_time": "2023-01-13T09:04:11.034492",
     "exception": false,
     "start_time": "2023-01-13T09:04:10.955233",
     "status": "completed"
    },
    "tags": []
   },
   "outputs": [
    {
     "data": {
      "text/html": [
       "<div>\n",
       "<style scoped>\n",
       "    .dataframe tbody tr th:only-of-type {\n",
       "        vertical-align: middle;\n",
       "    }\n",
       "\n",
       "    .dataframe tbody tr th {\n",
       "        vertical-align: top;\n",
       "    }\n",
       "\n",
       "    .dataframe thead th {\n",
       "        text-align: right;\n",
       "    }\n",
       "</style>\n",
       "<table border=\"1\" class=\"dataframe\">\n",
       "  <thead>\n",
       "    <tr style=\"text-align: right;\">\n",
       "      <th></th>\n",
       "      <th>pet_id</th>\n",
       "      <th>issue_date</th>\n",
       "      <th>listing_date</th>\n",
       "      <th>condition</th>\n",
       "      <th>color_type</th>\n",
       "      <th>length(m)</th>\n",
       "      <th>height(cm)</th>\n",
       "      <th>X1</th>\n",
       "      <th>X2</th>\n",
       "    </tr>\n",
       "  </thead>\n",
       "  <tbody>\n",
       "    <tr>\n",
       "      <th>0</th>\n",
       "      <td>ANSL_75005</td>\n",
       "      <td>2005-08-17 00:00:00</td>\n",
       "      <td>2017-09-07 15:35:00</td>\n",
       "      <td>0.0</td>\n",
       "      <td>Black</td>\n",
       "      <td>0.87</td>\n",
       "      <td>42.73</td>\n",
       "      <td>0</td>\n",
       "      <td>7</td>\n",
       "    </tr>\n",
       "    <tr>\n",
       "      <th>1</th>\n",
       "      <td>ANSL_76663</td>\n",
       "      <td>2018-11-15 00:00:00</td>\n",
       "      <td>2019-05-08 17:24:00</td>\n",
       "      <td>1.0</td>\n",
       "      <td>Orange Tabby</td>\n",
       "      <td>0.06</td>\n",
       "      <td>6.71</td>\n",
       "      <td>0</td>\n",
       "      <td>1</td>\n",
       "    </tr>\n",
       "    <tr>\n",
       "      <th>2</th>\n",
       "      <td>ANSL_58259</td>\n",
       "      <td>2012-10-11 00:00:00</td>\n",
       "      <td>2018-04-02 16:51:00</td>\n",
       "      <td>1.0</td>\n",
       "      <td>Black</td>\n",
       "      <td>0.24</td>\n",
       "      <td>41.21</td>\n",
       "      <td>0</td>\n",
       "      <td>7</td>\n",
       "    </tr>\n",
       "    <tr>\n",
       "      <th>3</th>\n",
       "      <td>ANSL_67171</td>\n",
       "      <td>2015-02-13 00:00:00</td>\n",
       "      <td>2018-04-06 07:25:00</td>\n",
       "      <td>1.0</td>\n",
       "      <td>Black</td>\n",
       "      <td>0.29</td>\n",
       "      <td>8.46</td>\n",
       "      <td>7</td>\n",
       "      <td>1</td>\n",
       "    </tr>\n",
       "    <tr>\n",
       "      <th>4</th>\n",
       "      <td>ANSL_72871</td>\n",
       "      <td>2017-01-18 00:00:00</td>\n",
       "      <td>2018-04-26 13:42:00</td>\n",
       "      <td>1.0</td>\n",
       "      <td>Brown</td>\n",
       "      <td>0.71</td>\n",
       "      <td>30.92</td>\n",
       "      <td>0</td>\n",
       "      <td>7</td>\n",
       "    </tr>\n",
       "  </tbody>\n",
       "</table>\n",
       "</div>"
      ],
      "text/plain": [
       "       pet_id           issue_date         listing_date  condition  \\\n",
       "0  ANSL_75005  2005-08-17 00:00:00  2017-09-07 15:35:00        0.0   \n",
       "1  ANSL_76663  2018-11-15 00:00:00  2019-05-08 17:24:00        1.0   \n",
       "2  ANSL_58259  2012-10-11 00:00:00  2018-04-02 16:51:00        1.0   \n",
       "3  ANSL_67171  2015-02-13 00:00:00  2018-04-06 07:25:00        1.0   \n",
       "4  ANSL_72871  2017-01-18 00:00:00  2018-04-26 13:42:00        1.0   \n",
       "\n",
       "     color_type  length(m)  height(cm)  X1  X2  \n",
       "0         Black       0.87       42.73   0   7  \n",
       "1  Orange Tabby       0.06        6.71   0   1  \n",
       "2         Black       0.24       41.21   0   7  \n",
       "3         Black       0.29        8.46   7   1  \n",
       "4         Brown       0.71       30.92   0   7  "
      ]
     },
     "execution_count": 3,
     "metadata": {},
     "output_type": "execute_result"
    }
   ],
   "source": [
    "test.head()"
   ]
  },
  {
   "cell_type": "code",
   "execution_count": 4,
   "metadata": {
    "execution": {
     "iopub.execute_input": "2023-01-13T09:04:11.151213Z",
     "iopub.status.busy": "2023-01-13T09:04:11.150421Z",
     "iopub.status.idle": "2023-01-13T09:04:11.156712Z",
     "shell.execute_reply": "2023-01-13T09:04:11.157333Z"
    },
    "papermill": {
     "duration": 0.066343,
     "end_time": "2023-01-13T09:04:11.157553",
     "exception": false,
     "start_time": "2023-01-13T09:04:11.091210",
     "status": "completed"
    },
    "tags": []
   },
   "outputs": [
    {
     "data": {
      "text/plain": [
       "((18834, 11), (8072, 9))"
      ]
     },
     "execution_count": 4,
     "metadata": {},
     "output_type": "execute_result"
    }
   ],
   "source": [
    "train.shape,test.shape"
   ]
  },
  {
   "cell_type": "markdown",
   "metadata": {
    "papermill": {
     "duration": 0.058013,
     "end_time": "2023-01-13T09:04:11.273269",
     "exception": false,
     "start_time": "2023-01-13T09:04:11.215256",
     "status": "completed"
    },
    "tags": []
   },
   "source": [
    "#  check  missing values"
   ]
  },
  {
   "cell_type": "code",
   "execution_count": 5,
   "metadata": {
    "execution": {
     "iopub.execute_input": "2023-01-13T09:04:11.393859Z",
     "iopub.status.busy": "2023-01-13T09:04:11.393133Z",
     "iopub.status.idle": "2023-01-13T09:04:11.416419Z",
     "shell.execute_reply": "2023-01-13T09:04:11.415335Z"
    },
    "papermill": {
     "duration": 0.084049,
     "end_time": "2023-01-13T09:04:11.416645",
     "exception": false,
     "start_time": "2023-01-13T09:04:11.332596",
     "status": "completed"
    },
    "tags": []
   },
   "outputs": [
    {
     "name": "stdout",
     "output_type": "stream",
     "text": [
      "<class 'pandas.core.frame.DataFrame'>\n",
      "RangeIndex: 18834 entries, 0 to 18833\n",
      "Data columns (total 11 columns):\n",
      " #   Column          Non-Null Count  Dtype  \n",
      "---  ------          --------------  -----  \n",
      " 0   pet_id          18834 non-null  object \n",
      " 1   issue_date      18834 non-null  object \n",
      " 2   listing_date    18834 non-null  object \n",
      " 3   condition       17357 non-null  float64\n",
      " 4   color_type      18834 non-null  object \n",
      " 5   length(m)       18834 non-null  float64\n",
      " 6   height(cm)      18834 non-null  float64\n",
      " 7   X1              18834 non-null  int64  \n",
      " 8   X2              18834 non-null  int64  \n",
      " 9   breed_category  18834 non-null  float64\n",
      " 10  pet_category    18834 non-null  int64  \n",
      "dtypes: float64(4), int64(3), object(4)\n",
      "memory usage: 1.6+ MB\n"
     ]
    }
   ],
   "source": [
    "train.info()"
   ]
  },
  {
   "cell_type": "code",
   "execution_count": 6,
   "metadata": {
    "execution": {
     "iopub.execute_input": "2023-01-13T09:04:11.537657Z",
     "iopub.status.busy": "2023-01-13T09:04:11.536885Z",
     "iopub.status.idle": "2023-01-13T09:04:11.553222Z",
     "shell.execute_reply": "2023-01-13T09:04:11.552507Z"
    },
    "papermill": {
     "duration": 0.079188,
     "end_time": "2023-01-13T09:04:11.553382",
     "exception": false,
     "start_time": "2023-01-13T09:04:11.474194",
     "status": "completed"
    },
    "tags": []
   },
   "outputs": [
    {
     "name": "stdout",
     "output_type": "stream",
     "text": [
      "<class 'pandas.core.frame.DataFrame'>\n",
      "RangeIndex: 8072 entries, 0 to 8071\n",
      "Data columns (total 9 columns):\n",
      " #   Column        Non-Null Count  Dtype  \n",
      "---  ------        --------------  -----  \n",
      " 0   pet_id        8072 non-null   object \n",
      " 1   issue_date    8072 non-null   object \n",
      " 2   listing_date  8072 non-null   object \n",
      " 3   condition     7453 non-null   float64\n",
      " 4   color_type    8072 non-null   object \n",
      " 5   length(m)     8072 non-null   float64\n",
      " 6   height(cm)    8072 non-null   float64\n",
      " 7   X1            8072 non-null   int64  \n",
      " 8   X2            8072 non-null   int64  \n",
      "dtypes: float64(3), int64(2), object(4)\n",
      "memory usage: 567.7+ KB\n"
     ]
    }
   ],
   "source": [
    "test.info()"
   ]
  },
  {
   "cell_type": "markdown",
   "metadata": {
    "papermill": {
     "duration": 0.05747,
     "end_time": "2023-01-13T09:04:11.670306",
     "exception": false,
     "start_time": "2023-01-13T09:04:11.612836",
     "status": "completed"
    },
    "tags": []
   },
   "source": [
    "we found missing values only in the column of 'Condition'."
   ]
  },
  {
   "cell_type": "code",
   "execution_count": 7,
   "metadata": {
    "execution": {
     "iopub.execute_input": "2023-01-13T09:04:11.817525Z",
     "iopub.status.busy": "2023-01-13T09:04:11.816782Z",
     "iopub.status.idle": "2023-01-13T09:04:11.821920Z",
     "shell.execute_reply": "2023-01-13T09:04:11.821297Z"
    },
    "papermill": {
     "duration": 0.085193,
     "end_time": "2023-01-13T09:04:11.822068",
     "exception": false,
     "start_time": "2023-01-13T09:04:11.736875",
     "status": "completed"
    },
    "tags": []
   },
   "outputs": [
    {
     "data": {
      "text/plain": [
       "0.0    9000\n",
       "1.0    8357\n",
       "2.0    1477\n",
       "Name: breed_category, dtype: int64"
      ]
     },
     "execution_count": 7,
     "metadata": {},
     "output_type": "execute_result"
    }
   ],
   "source": [
    "train['breed_category'].value_counts()"
   ]
  },
  {
   "cell_type": "code",
   "execution_count": 8,
   "metadata": {
    "execution": {
     "iopub.execute_input": "2023-01-13T09:04:11.942039Z",
     "iopub.status.busy": "2023-01-13T09:04:11.941165Z",
     "iopub.status.idle": "2023-01-13T09:04:11.951045Z",
     "shell.execute_reply": "2023-01-13T09:04:11.950455Z"
    },
    "papermill": {
     "duration": 0.071257,
     "end_time": "2023-01-13T09:04:11.951175",
     "exception": false,
     "start_time": "2023-01-13T09:04:11.879918",
     "status": "completed"
    },
    "tags": []
   },
   "outputs": [
    {
     "data": {
      "text/plain": [
       "2.0    1477\n",
       "Name: breed_category, dtype: int64"
      ]
     },
     "execution_count": 8,
     "metadata": {},
     "output_type": "execute_result"
    }
   ],
   "source": [
    "#cheak\n",
    "a=train['breed_category'][(np.isnan(train['condition']))]\n",
    "a.value_counts()"
   ]
  },
  {
   "cell_type": "markdown",
   "metadata": {
    "papermill": {
     "duration": 0.057683,
     "end_time": "2023-01-13T09:04:12.067572",
     "exception": false,
     "start_time": "2023-01-13T09:04:12.009889",
     "status": "completed"
    },
    "tags": []
   },
   "source": [
    "It means all the missing values belong to a single particular label. So, we can fill them with a unique value like -1."
   ]
  },
  {
   "cell_type": "markdown",
   "metadata": {
    "papermill": {
     "duration": 0.064548,
     "end_time": "2023-01-13T09:04:12.190719",
     "exception": false,
     "start_time": "2023-01-13T09:04:12.126171",
     "status": "completed"
    },
    "tags": []
   },
   "source": [
    "**combine train and test data** "
   ]
  },
  {
   "cell_type": "code",
   "execution_count": 9,
   "metadata": {
    "execution": {
     "iopub.execute_input": "2023-01-13T09:04:12.332378Z",
     "iopub.status.busy": "2023-01-13T09:04:12.331629Z",
     "iopub.status.idle": "2023-01-13T09:04:12.335499Z",
     "shell.execute_reply": "2023-01-13T09:04:12.334792Z"
    },
    "papermill": {
     "duration": 0.06679,
     "end_time": "2023-01-13T09:04:12.335636",
     "exception": false,
     "start_time": "2023-01-13T09:04:12.268846",
     "status": "completed"
    },
    "tags": []
   },
   "outputs": [],
   "source": [
    "#copy all test id to create submission file\n",
    "test_id=test['pet_id']\n",
    "#save the train left...it will use when the combine data will split into the previous train and test data after doing feature engineering\n",
    "ntrain=train.shape[0]"
   ]
  },
  {
   "cell_type": "code",
   "execution_count": 10,
   "metadata": {
    "execution": {
     "iopub.execute_input": "2023-01-13T09:04:12.460673Z",
     "iopub.status.busy": "2023-01-13T09:04:12.459942Z",
     "iopub.status.idle": "2023-01-13T09:04:12.463993Z",
     "shell.execute_reply": "2023-01-13T09:04:12.463198Z"
    },
    "papermill": {
     "duration": 0.071294,
     "end_time": "2023-01-13T09:04:12.464128",
     "exception": false,
     "start_time": "2023-01-13T09:04:12.392834",
     "status": "completed"
    },
    "tags": []
   },
   "outputs": [],
   "source": [
    "#save target variable i.e label\n",
    "y1=train['breed_category']\n",
    "y2=train['pet_category']"
   ]
  },
  {
   "cell_type": "code",
   "execution_count": 11,
   "metadata": {
    "execution": {
     "iopub.execute_input": "2023-01-13T09:04:12.598882Z",
     "iopub.status.busy": "2023-01-13T09:04:12.595713Z",
     "iopub.status.idle": "2023-01-13T09:04:12.640234Z",
     "shell.execute_reply": "2023-01-13T09:04:12.639089Z"
    },
    "papermill": {
     "duration": 0.115142,
     "end_time": "2023-01-13T09:04:12.640496",
     "exception": false,
     "start_time": "2023-01-13T09:04:12.525354",
     "status": "completed"
    },
    "tags": []
   },
   "outputs": [],
   "source": [
    "#combine test and train data\n",
    "all_data = pd.concat((train, test)).reset_index(drop=True)\n",
    "all_data.drop(['breed_category','pet_category'], axis=1, inplace=True)"
   ]
  },
  {
   "cell_type": "markdown",
   "metadata": {
    "papermill": {
     "duration": 0.06018,
     "end_time": "2023-01-13T09:04:12.771538",
     "exception": false,
     "start_time": "2023-01-13T09:04:12.711358",
     "status": "completed"
    },
    "tags": []
   },
   "source": [
    "now it's ready to do feature engineering"
   ]
  },
  {
   "cell_type": "markdown",
   "metadata": {
    "papermill": {
     "duration": 0.05753,
     "end_time": "2023-01-13T09:04:12.888201",
     "exception": false,
     "start_time": "2023-01-13T09:04:12.830671",
     "status": "completed"
    },
    "tags": []
   },
   "source": [
    "# Feature Engineering"
   ]
  },
  {
   "cell_type": "markdown",
   "metadata": {
    "papermill": {
     "duration": 0.056206,
     "end_time": "2023-01-13T09:04:13.000976",
     "exception": false,
     "start_time": "2023-01-13T09:04:12.944770",
     "status": "completed"
    },
    "tags": []
   },
   "source": [
    "**missing value fillup with -1**"
   ]
  },
  {
   "cell_type": "code",
   "execution_count": 12,
   "metadata": {
    "execution": {
     "iopub.execute_input": "2023-01-13T09:04:13.125663Z",
     "iopub.status.busy": "2023-01-13T09:04:13.124806Z",
     "iopub.status.idle": "2023-01-13T09:04:13.130537Z",
     "shell.execute_reply": "2023-01-13T09:04:13.129791Z"
    },
    "papermill": {
     "duration": 0.071999,
     "end_time": "2023-01-13T09:04:13.130671",
     "exception": false,
     "start_time": "2023-01-13T09:04:13.058672",
     "status": "completed"
    },
    "tags": []
   },
   "outputs": [
    {
     "data": {
      "text/plain": [
       "1.0    9747\n",
       "0.0    8966\n",
       "2.0    6097\n",
       "Name: condition, dtype: int64"
      ]
     },
     "execution_count": 12,
     "metadata": {},
     "output_type": "execute_result"
    }
   ],
   "source": [
    "all_data['condition'].value_counts()"
   ]
  },
  {
   "cell_type": "code",
   "execution_count": 13,
   "metadata": {
    "execution": {
     "iopub.execute_input": "2023-01-13T09:04:13.252396Z",
     "iopub.status.busy": "2023-01-13T09:04:13.251414Z",
     "iopub.status.idle": "2023-01-13T09:04:13.256689Z",
     "shell.execute_reply": "2023-01-13T09:04:13.255939Z"
    },
    "papermill": {
     "duration": 0.068582,
     "end_time": "2023-01-13T09:04:13.256832",
     "exception": false,
     "start_time": "2023-01-13T09:04:13.188250",
     "status": "completed"
    },
    "tags": []
   },
   "outputs": [],
   "source": [
    "all_data['condition'].fillna(-1,inplace=True)"
   ]
  },
  {
   "cell_type": "code",
   "execution_count": 14,
   "metadata": {
    "execution": {
     "iopub.execute_input": "2023-01-13T09:04:13.381470Z",
     "iopub.status.busy": "2023-01-13T09:04:13.380288Z",
     "iopub.status.idle": "2023-01-13T09:04:13.388679Z",
     "shell.execute_reply": "2023-01-13T09:04:13.388062Z"
    },
    "papermill": {
     "duration": 0.073463,
     "end_time": "2023-01-13T09:04:13.388811",
     "exception": false,
     "start_time": "2023-01-13T09:04:13.315348",
     "status": "completed"
    },
    "tags": []
   },
   "outputs": [
    {
     "data": {
      "text/plain": [
       " 1.0    9747\n",
       " 0.0    8966\n",
       " 2.0    6097\n",
       "-1.0    2096\n",
       "Name: condition, dtype: int64"
      ]
     },
     "execution_count": 14,
     "metadata": {},
     "output_type": "execute_result"
    }
   ],
   "source": [
    "all_data['condition'].value_counts()"
   ]
  },
  {
   "cell_type": "code",
   "execution_count": 15,
   "metadata": {
    "execution": {
     "iopub.execute_input": "2023-01-13T09:04:13.520899Z",
     "iopub.status.busy": "2023-01-13T09:04:13.519826Z",
     "iopub.status.idle": "2023-01-13T09:04:13.531079Z",
     "shell.execute_reply": "2023-01-13T09:04:13.531797Z"
    },
    "papermill": {
     "duration": 0.082669,
     "end_time": "2023-01-13T09:04:13.532023",
     "exception": false,
     "start_time": "2023-01-13T09:04:13.449354",
     "status": "completed"
    },
    "tags": []
   },
   "outputs": [
    {
     "name": "stdout",
     "output_type": "stream",
     "text": [
      "<class 'pandas.core.frame.DataFrame'>\n",
      "RangeIndex: 26906 entries, 0 to 26905\n",
      "Data columns (total 9 columns):\n",
      " #   Column        Non-Null Count  Dtype  \n",
      "---  ------        --------------  -----  \n",
      " 0   pet_id        26906 non-null  object \n",
      " 1   issue_date    26906 non-null  object \n",
      " 2   listing_date  26906 non-null  object \n",
      " 3   condition     26906 non-null  float64\n",
      " 4   color_type    26906 non-null  object \n",
      " 5   length(m)     26906 non-null  float64\n",
      " 6   height(cm)    26906 non-null  float64\n",
      " 7   X1            26906 non-null  int64  \n",
      " 8   X2            26906 non-null  int64  \n",
      "dtypes: float64(3), int64(2), object(4)\n",
      "memory usage: 1.8+ MB\n"
     ]
    }
   ],
   "source": [
    "all_data.info()"
   ]
  },
  {
   "cell_type": "markdown",
   "metadata": {
    "papermill": {
     "duration": 0.061887,
     "end_time": "2023-01-13T09:04:13.657543",
     "exception": false,
     "start_time": "2023-01-13T09:04:13.595656",
     "status": "completed"
    },
    "tags": []
   },
   "source": [
    "So, there is no null values in any column of all_data."
   ]
  },
  {
   "cell_type": "code",
   "execution_count": null,
   "metadata": {
    "papermill": {
     "duration": 0.091593,
     "end_time": "2023-01-13T09:04:13.812405",
     "exception": false,
     "start_time": "2023-01-13T09:04:13.720812",
     "status": "completed"
    },
    "tags": []
   },
   "outputs": [],
   "source": []
  },
  {
   "cell_type": "markdown",
   "metadata": {
    "papermill": {
     "duration": 0.061797,
     "end_time": "2023-01-13T09:04:13.948210",
     "exception": false,
     "start_time": "2023-01-13T09:04:13.886413",
     "status": "completed"
    },
    "tags": []
   },
   "source": [
    "**seasonal feature(new feature)**"
   ]
  },
  {
   "cell_type": "markdown",
   "metadata": {
    "papermill": {
     "duration": 0.057785,
     "end_time": "2023-01-13T09:04:14.065522",
     "exception": false,
     "start_time": "2023-01-13T09:04:14.007737",
     "status": "completed"
    },
    "tags": []
   },
   "source": [
    "Since all the pets are not found in the same season,  it is an important feature. For example,\n",
    "*  Best Birth Months for the Dog: January, February, March, August, December\n",
    "*  Best Birth Months for the Dog: March, April, July, August.\n",
    "* so both are not same."
   ]
  },
  {
   "cell_type": "code",
   "execution_count": 16,
   "metadata": {
    "execution": {
     "iopub.execute_input": "2023-01-13T09:04:14.245596Z",
     "iopub.status.busy": "2023-01-13T09:04:14.244507Z",
     "iopub.status.idle": "2023-01-13T09:04:14.266823Z",
     "shell.execute_reply": "2023-01-13T09:04:14.267547Z"
    },
    "papermill": {
     "duration": 0.086464,
     "end_time": "2023-01-13T09:04:14.267789",
     "exception": false,
     "start_time": "2023-01-13T09:04:14.181325",
     "status": "completed"
    },
    "tags": []
   },
   "outputs": [],
   "source": [
    "all_data['issue_date']=pd.to_datetime(all_data['issue_date'])\n",
    "all_data['listing_date']=pd.to_datetime(all_data['listing_date'])\n"
   ]
  },
  {
   "cell_type": "code",
   "execution_count": 17,
   "metadata": {
    "execution": {
     "iopub.execute_input": "2023-01-13T09:04:14.548760Z",
     "iopub.status.busy": "2023-01-13T09:04:14.535679Z",
     "iopub.status.idle": "2023-01-13T09:04:14.554286Z",
     "shell.execute_reply": "2023-01-13T09:04:14.553604Z"
    },
    "papermill": {
     "duration": 0.226138,
     "end_time": "2023-01-13T09:04:14.554453",
     "exception": false,
     "start_time": "2023-01-13T09:04:14.328315",
     "status": "completed"
    },
    "tags": []
   },
   "outputs": [],
   "source": [
    "x=[]\n",
    "for d in all_data['issue_date']:\n",
    "    y=d.month\n",
    "    x.append(y)\n",
    "all_data['issue_month']=x"
   ]
  },
  {
   "cell_type": "code",
   "execution_count": 18,
   "metadata": {
    "execution": {
     "iopub.execute_input": "2023-01-13T09:04:14.707979Z",
     "iopub.status.busy": "2023-01-13T09:04:14.706704Z",
     "iopub.status.idle": "2023-01-13T09:04:14.758940Z",
     "shell.execute_reply": "2023-01-13T09:04:14.757946Z"
    },
    "papermill": {
     "duration": 0.12493,
     "end_time": "2023-01-13T09:04:14.759142",
     "exception": false,
     "start_time": "2023-01-13T09:04:14.634212",
     "status": "completed"
    },
    "tags": []
   },
   "outputs": [],
   "source": [
    "x=[]\n",
    "for d in all_data['listing_date']:\n",
    "    y=d.month\n",
    "    x.append(y)\n",
    "all_data['listing_month']=x"
   ]
  },
  {
   "cell_type": "markdown",
   "metadata": {
    "papermill": {
     "duration": 0.07463,
     "end_time": "2023-01-13T09:04:14.913139",
     "exception": false,
     "start_time": "2023-01-13T09:04:14.838509",
     "status": "completed"
    },
    "tags": []
   },
   "source": [
    "**time difference between issue and listing date(new feature)**"
   ]
  },
  {
   "cell_type": "markdown",
   "metadata": {
    "papermill": {
     "duration": 0.092398,
     "end_time": "2023-01-13T09:04:15.070706",
     "exception": false,
     "start_time": "2023-01-13T09:04:14.978308",
     "status": "completed"
    },
    "tags": []
   },
   "source": [
    "It will be a great feature as all the animals which are available in shelter must be matured. Maybe, the issue date can be considered as birth time and the listing date as the time of the animals' being matured for staying in shelter. So, the difference between two of them indicates the time for getting mature of an animal which is not same for all the animals. Therefore, it is also an important feature.  "
   ]
  },
  {
   "cell_type": "code",
   "execution_count": 19,
   "metadata": {
    "execution": {
     "iopub.execute_input": "2023-01-13T09:04:15.215962Z",
     "iopub.status.busy": "2023-01-13T09:04:15.214847Z",
     "iopub.status.idle": "2023-01-13T09:04:15.267135Z",
     "shell.execute_reply": "2023-01-13T09:04:15.267873Z"
    },
    "papermill": {
     "duration": 0.125998,
     "end_time": "2023-01-13T09:04:15.268088",
     "exception": false,
     "start_time": "2023-01-13T09:04:15.142090",
     "status": "completed"
    },
    "tags": []
   },
   "outputs": [],
   "source": [
    "x=[]\n",
    "for d in all_data['listing_date']:\n",
    "    y=d.year+(d.month/12.0)+(d.day/365.0)\n",
    "    x.append(y)\n",
    "all_data['modified_listing_date']=x"
   ]
  },
  {
   "cell_type": "code",
   "execution_count": 20,
   "metadata": {
    "execution": {
     "iopub.execute_input": "2023-01-13T09:04:15.400527Z",
     "iopub.status.busy": "2023-01-13T09:04:15.399215Z",
     "iopub.status.idle": "2023-01-13T09:04:15.566038Z",
     "shell.execute_reply": "2023-01-13T09:04:15.567359Z"
    },
    "papermill": {
     "duration": 0.235894,
     "end_time": "2023-01-13T09:04:15.567680",
     "exception": false,
     "start_time": "2023-01-13T09:04:15.331786",
     "status": "completed"
    },
    "tags": []
   },
   "outputs": [],
   "source": [
    "x=[]\n",
    "for d in all_data['issue_date']:\n",
    "    y=d.year+(d.month/12.0)+(d.day/365.0)\n",
    "    x.append(y)\n",
    "all_data['modified_issue_date']=x"
   ]
  },
  {
   "cell_type": "code",
   "execution_count": 21,
   "metadata": {
    "execution": {
     "iopub.execute_input": "2023-01-13T09:04:15.705738Z",
     "iopub.status.busy": "2023-01-13T09:04:15.704988Z",
     "iopub.status.idle": "2023-01-13T09:04:15.732942Z",
     "shell.execute_reply": "2023-01-13T09:04:15.733627Z"
    },
    "papermill": {
     "duration": 0.101703,
     "end_time": "2023-01-13T09:04:15.733830",
     "exception": false,
     "start_time": "2023-01-13T09:04:15.632127",
     "status": "completed"
    },
    "tags": []
   },
   "outputs": [],
   "source": [
    "all_data['took_time']=abs(all_data['modified_listing_date']-all_data['modified_issue_date'])"
   ]
  },
  {
   "cell_type": "markdown",
   "metadata": {
    "papermill": {
     "duration": 0.062287,
     "end_time": "2023-01-13T09:04:15.857678",
     "exception": false,
     "start_time": "2023-01-13T09:04:15.795391",
     "status": "completed"
    },
    "tags": []
   },
   "source": [
    "**Modified pet id and extract important feature**"
   ]
  },
  {
   "cell_type": "markdown",
   "metadata": {
    "papermill": {
     "duration": 0.061556,
     "end_time": "2023-01-13T09:04:15.984230",
     "exception": false,
     "start_time": "2023-01-13T09:04:15.922674",
     "status": "completed"
    },
    "tags": []
   },
   "source": [
    "* when the dataset was creating, it might be happened that it was listing with special id for a particular animal.\n",
    "* just like ANSL_69903.so,all ANSL_6**** i.e., the id starts with 6 maybe a particular animal because we can see that all the ids are not coming serially.\n",
    "* so extracting the 1st and both 1st and 2nd numbers maybe a good feature."
   ]
  },
  {
   "cell_type": "code",
   "execution_count": 22,
   "metadata": {
    "execution": {
     "iopub.execute_input": "2023-01-13T09:04:16.117764Z",
     "iopub.status.busy": "2023-01-13T09:04:16.116951Z",
     "iopub.status.idle": "2023-01-13T09:04:16.143588Z",
     "shell.execute_reply": "2023-01-13T09:04:16.142876Z"
    },
    "papermill": {
     "duration": 0.095267,
     "end_time": "2023-01-13T09:04:16.143741",
     "exception": false,
     "start_time": "2023-01-13T09:04:16.048474",
     "status": "completed"
    },
    "tags": []
   },
   "outputs": [],
   "source": [
    "\n",
    "all_data['1stnum'] = all_data['pet_id'].str[:6]\n",
    "all_data['1st2num'] = all_data['pet_id'].str[:7]"
   ]
  },
  {
   "cell_type": "code",
   "execution_count": null,
   "metadata": {
    "papermill": {
     "duration": 0.059751,
     "end_time": "2023-01-13T09:04:16.264860",
     "exception": false,
     "start_time": "2023-01-13T09:04:16.205109",
     "status": "completed"
    },
    "tags": []
   },
   "outputs": [],
   "source": []
  },
  {
   "cell_type": "markdown",
   "metadata": {
    "papermill": {
     "duration": 0.058707,
     "end_time": "2023-01-13T09:04:16.384892",
     "exception": false,
     "start_time": "2023-01-13T09:04:16.326185",
     "status": "completed"
    },
    "tags": []
   },
   "source": [
    "split back to the train and test data"
   ]
  },
  {
   "cell_type": "code",
   "execution_count": 23,
   "metadata": {
    "execution": {
     "iopub.execute_input": "2023-01-13T09:04:16.513714Z",
     "iopub.status.busy": "2023-01-13T09:04:16.513011Z",
     "iopub.status.idle": "2023-01-13T09:04:16.516297Z",
     "shell.execute_reply": "2023-01-13T09:04:16.516791Z"
    },
    "papermill": {
     "duration": 0.071981,
     "end_time": "2023-01-13T09:04:16.516971",
     "exception": false,
     "start_time": "2023-01-13T09:04:16.444990",
     "status": "completed"
    },
    "tags": []
   },
   "outputs": [],
   "source": [
    "train = all_data[:ntrain]\n",
    "test = all_data[ntrain:]"
   ]
  },
  {
   "cell_type": "code",
   "execution_count": 24,
   "metadata": {
    "execution": {
     "iopub.execute_input": "2023-01-13T09:04:16.649450Z",
     "iopub.status.busy": "2023-01-13T09:04:16.648673Z",
     "iopub.status.idle": "2023-01-13T09:04:16.668620Z",
     "shell.execute_reply": "2023-01-13T09:04:16.667876Z"
    },
    "papermill": {
     "duration": 0.089304,
     "end_time": "2023-01-13T09:04:16.668756",
     "exception": false,
     "start_time": "2023-01-13T09:04:16.579452",
     "status": "completed"
    },
    "tags": []
   },
   "outputs": [],
   "source": [
    "#drop some unnecessary features\n",
    "x=train.drop(['pet_id','issue_date','listing_date','modified_issue_date'],axis=1)\n",
    "test=test.drop(['pet_id','issue_date','listing_date','modified_issue_date'],axis=1)\n"
   ]
  },
  {
   "cell_type": "code",
   "execution_count": null,
   "metadata": {
    "papermill": {
     "duration": 0.059269,
     "end_time": "2023-01-13T09:04:16.788301",
     "exception": false,
     "start_time": "2023-01-13T09:04:16.729032",
     "status": "completed"
    },
    "tags": []
   },
   "outputs": [],
   "source": []
  },
  {
   "cell_type": "markdown",
   "metadata": {
    "papermill": {
     "duration": 0.060047,
     "end_time": "2023-01-13T09:04:16.907472",
     "exception": false,
     "start_time": "2023-01-13T09:04:16.847425",
     "status": "completed"
    },
    "tags": []
   },
   "source": [
    "* **handle categorical variable**"
   ]
  },
  {
   "cell_type": "code",
   "execution_count": 25,
   "metadata": {
    "execution": {
     "iopub.execute_input": "2023-01-13T09:04:17.039779Z",
     "iopub.status.busy": "2023-01-13T09:04:17.039013Z",
     "iopub.status.idle": "2023-01-13T09:04:17.044552Z",
     "shell.execute_reply": "2023-01-13T09:04:17.043750Z"
    },
    "papermill": {
     "duration": 0.076019,
     "end_time": "2023-01-13T09:04:17.044713",
     "exception": false,
     "start_time": "2023-01-13T09:04:16.968694",
     "status": "completed"
    },
    "tags": []
   },
   "outputs": [
    {
     "data": {
      "text/plain": [
       "['color_type', '1stnum', '1st2num']"
      ]
     },
     "execution_count": 25,
     "metadata": {},
     "output_type": "execute_result"
    }
   ],
   "source": [
    "x.select_dtypes(exclude='number').columns.to_list()"
   ]
  },
  {
   "cell_type": "markdown",
   "metadata": {
    "papermill": {
     "duration": 0.062683,
     "end_time": "2023-01-13T09:04:17.170695",
     "exception": false,
     "start_time": "2023-01-13T09:04:17.108012",
     "status": "completed"
    },
    "tags": []
   },
   "source": [
    "There are a lot of ways to handle categorical variables:\n",
    "* Replacing values\n",
    "* Encoding labels\n",
    "* One-Hot encoding\n",
    "* Binary encoding\n",
    "* Backward difference encoding\n",
    "* Miscellaneous features\n",
    "* I used one-hot encoding and achived a great score"
   ]
  },
  {
   "cell_type": "markdown",
   "metadata": {
    "papermill": {
     "duration": 0.061884,
     "end_time": "2023-01-13T09:04:17.298211",
     "exception": false,
     "start_time": "2023-01-13T09:04:17.236327",
     "status": "completed"
    },
    "tags": []
   },
   "source": [
    "One Hot endcode"
   ]
  },
  {
   "cell_type": "code",
   "execution_count": 26,
   "metadata": {
    "execution": {
     "iopub.execute_input": "2023-01-13T09:04:17.430625Z",
     "iopub.status.busy": "2023-01-13T09:04:17.429552Z",
     "iopub.status.idle": "2023-01-13T09:04:17.434672Z",
     "shell.execute_reply": "2023-01-13T09:04:17.433993Z"
    },
    "papermill": {
     "duration": 0.07463,
     "end_time": "2023-01-13T09:04:17.434825",
     "exception": false,
     "start_time": "2023-01-13T09:04:17.360195",
     "status": "completed"
    },
    "tags": []
   },
   "outputs": [
    {
     "data": {
      "text/plain": [
       "(18834, 12)"
      ]
     },
     "execution_count": 26,
     "metadata": {},
     "output_type": "execute_result"
    }
   ],
   "source": [
    "x.shape"
   ]
  },
  {
   "cell_type": "code",
   "execution_count": 27,
   "metadata": {
    "execution": {
     "iopub.execute_input": "2023-01-13T09:04:17.564114Z",
     "iopub.status.busy": "2023-01-13T09:04:17.563288Z",
     "iopub.status.idle": "2023-01-13T09:04:17.603838Z",
     "shell.execute_reply": "2023-01-13T09:04:17.604394Z"
    },
    "papermill": {
     "duration": 0.106399,
     "end_time": "2023-01-13T09:04:17.604600",
     "exception": false,
     "start_time": "2023-01-13T09:04:17.498201",
     "status": "completed"
    },
    "tags": []
   },
   "outputs": [],
   "source": [
    "x=pd.get_dummies(x)\n",
    "test=pd.get_dummies(test)\n"
   ]
  },
  {
   "cell_type": "code",
   "execution_count": 28,
   "metadata": {
    "execution": {
     "iopub.execute_input": "2023-01-13T09:04:17.735593Z",
     "iopub.status.busy": "2023-01-13T09:04:17.734886Z",
     "iopub.status.idle": "2023-01-13T09:04:17.740565Z",
     "shell.execute_reply": "2023-01-13T09:04:17.741080Z"
    },
    "papermill": {
     "duration": 0.072345,
     "end_time": "2023-01-13T09:04:17.741274",
     "exception": false,
     "start_time": "2023-01-13T09:04:17.668929",
     "status": "completed"
    },
    "tags": []
   },
   "outputs": [
    {
     "data": {
      "text/plain": [
       "((18834, 97), (8072, 95))"
      ]
     },
     "execution_count": 28,
     "metadata": {},
     "output_type": "execute_result"
    }
   ],
   "source": [
    "x.shape,test.shape"
   ]
  },
  {
   "cell_type": "code",
   "execution_count": null,
   "metadata": {
    "papermill": {
     "duration": 0.061131,
     "end_time": "2023-01-13T09:04:17.865316",
     "exception": false,
     "start_time": "2023-01-13T09:04:17.804185",
     "status": "completed"
    },
    "tags": []
   },
   "outputs": [],
   "source": []
  },
  {
   "cell_type": "markdown",
   "metadata": {
    "papermill": {
     "duration": 0.062608,
     "end_time": "2023-01-13T09:04:17.993598",
     "exception": false,
     "start_time": "2023-01-13T09:04:17.930990",
     "status": "completed"
    },
    "tags": []
   },
   "source": [
    "You can see that both shapes are not same. Train has 97 and test has 95 columns. It means the train and test data contain 2 extra columns after one-hot endcoding. We have to remove these 2 columns from the train data."
   ]
  },
  {
   "cell_type": "code",
   "execution_count": 29,
   "metadata": {
    "execution": {
     "iopub.execute_input": "2023-01-13T09:04:18.120759Z",
     "iopub.status.busy": "2023-01-13T09:04:18.120041Z",
     "iopub.status.idle": "2023-01-13T09:04:18.124286Z",
     "shell.execute_reply": "2023-01-13T09:04:18.124804Z"
    },
    "papermill": {
     "duration": 0.06935,
     "end_time": "2023-01-13T09:04:18.124993",
     "exception": false,
     "start_time": "2023-01-13T09:04:18.055643",
     "status": "completed"
    },
    "tags": []
   },
   "outputs": [],
   "source": [
    "a=set(x.columns)-set(test.columns)"
   ]
  },
  {
   "cell_type": "code",
   "execution_count": 30,
   "metadata": {
    "execution": {
     "iopub.execute_input": "2023-01-13T09:04:18.253159Z",
     "iopub.status.busy": "2023-01-13T09:04:18.252470Z",
     "iopub.status.idle": "2023-01-13T09:04:18.257606Z",
     "shell.execute_reply": "2023-01-13T09:04:18.258157Z"
    },
    "papermill": {
     "duration": 0.070473,
     "end_time": "2023-01-13T09:04:18.258322",
     "exception": false,
     "start_time": "2023-01-13T09:04:18.187849",
     "status": "completed"
    },
    "tags": []
   },
   "outputs": [
    {
     "data": {
      "text/plain": [
       "['color_type_Brown Tiger', 'color_type_Black Tiger']"
      ]
     },
     "execution_count": 30,
     "metadata": {},
     "output_type": "execute_result"
    }
   ],
   "source": [
    "a=list(a)\n",
    "a"
   ]
  },
  {
   "cell_type": "code",
   "execution_count": 31,
   "metadata": {
    "execution": {
     "iopub.execute_input": "2023-01-13T09:04:18.388030Z",
     "iopub.status.busy": "2023-01-13T09:04:18.387180Z",
     "iopub.status.idle": "2023-01-13T09:04:18.400239Z",
     "shell.execute_reply": "2023-01-13T09:04:18.400891Z"
    },
    "papermill": {
     "duration": 0.07981,
     "end_time": "2023-01-13T09:04:18.401110",
     "exception": false,
     "start_time": "2023-01-13T09:04:18.321300",
     "status": "completed"
    },
    "tags": []
   },
   "outputs": [],
   "source": [
    "x=x.drop(a,axis=1)"
   ]
  },
  {
   "cell_type": "code",
   "execution_count": 32,
   "metadata": {
    "execution": {
     "iopub.execute_input": "2023-01-13T09:04:18.536762Z",
     "iopub.status.busy": "2023-01-13T09:04:18.535877Z",
     "iopub.status.idle": "2023-01-13T09:04:18.539837Z",
     "shell.execute_reply": "2023-01-13T09:04:18.540309Z"
    },
    "papermill": {
     "duration": 0.074964,
     "end_time": "2023-01-13T09:04:18.540495",
     "exception": false,
     "start_time": "2023-01-13T09:04:18.465531",
     "status": "completed"
    },
    "tags": []
   },
   "outputs": [
    {
     "data": {
      "text/plain": [
       "((18834, 95), (8072, 95))"
      ]
     },
     "execution_count": 32,
     "metadata": {},
     "output_type": "execute_result"
    }
   ],
   "source": [
    "x.shape,test.shape"
   ]
  },
  {
   "cell_type": "code",
   "execution_count": 33,
   "metadata": {
    "execution": {
     "iopub.execute_input": "2023-01-13T09:04:18.670597Z",
     "iopub.status.busy": "2023-01-13T09:04:18.669875Z",
     "iopub.status.idle": "2023-01-13T09:04:18.686999Z",
     "shell.execute_reply": "2023-01-13T09:04:18.687522Z"
    },
    "papermill": {
     "duration": 0.083086,
     "end_time": "2023-01-13T09:04:18.687733",
     "exception": false,
     "start_time": "2023-01-13T09:04:18.604647",
     "status": "completed"
    },
    "tags": []
   },
   "outputs": [],
   "source": [
    "#again combining\n",
    "all_data = pd.concat((x, test)).reset_index(drop=True)"
   ]
  },
  {
   "cell_type": "markdown",
   "metadata": {
    "papermill": {
     "duration": 0.064028,
     "end_time": "2023-01-13T09:04:18.815347",
     "exception": false,
     "start_time": "2023-01-13T09:04:18.751319",
     "status": "completed"
    },
    "tags": []
   },
   "source": [
    "**Scaling using StandardScaler()**"
   ]
  },
  {
   "cell_type": "code",
   "execution_count": 34,
   "metadata": {
    "execution": {
     "iopub.execute_input": "2023-01-13T09:04:18.946858Z",
     "iopub.status.busy": "2023-01-13T09:04:18.946149Z",
     "iopub.status.idle": "2023-01-13T09:04:19.995495Z",
     "shell.execute_reply": "2023-01-13T09:04:19.994700Z"
    },
    "papermill": {
     "duration": 1.116462,
     "end_time": "2023-01-13T09:04:19.995655",
     "exception": false,
     "start_time": "2023-01-13T09:04:18.879193",
     "status": "completed"
    },
    "tags": []
   },
   "outputs": [],
   "source": [
    "from sklearn import preprocessing\n",
    "# Get column names first\n",
    "names = all_data.columns\n",
    "# Create the Scaler object\n",
    "scaler = preprocessing.StandardScaler()\n",
    "# Fit your data on the scaler object\n",
    "scaled_df = scaler.fit_transform(all_data)\n",
    "all_data = pd.DataFrame(scaled_df, columns=names)"
   ]
  },
  {
   "cell_type": "markdown",
   "metadata": {
    "papermill": {
     "duration": 0.063418,
     "end_time": "2023-01-13T09:04:20.121571",
     "exception": false,
     "start_time": "2023-01-13T09:04:20.058153",
     "status": "completed"
    },
    "tags": []
   },
   "source": [
    "# split data for 1st model i.e., pet_category prediction"
   ]
  },
  {
   "cell_type": "code",
   "execution_count": 35,
   "metadata": {
    "execution": {
     "iopub.execute_input": "2023-01-13T09:04:20.263668Z",
     "iopub.status.busy": "2023-01-13T09:04:20.262911Z",
     "iopub.status.idle": "2023-01-13T09:04:20.269281Z",
     "shell.execute_reply": "2023-01-13T09:04:20.268509Z"
    },
    "papermill": {
     "duration": 0.080504,
     "end_time": "2023-01-13T09:04:20.269451",
     "exception": false,
     "start_time": "2023-01-13T09:04:20.188947",
     "status": "completed"
    },
    "tags": []
   },
   "outputs": [],
   "source": [
    "x = all_data[:ntrain]\n",
    "test = all_data[ntrain:]"
   ]
  },
  {
   "cell_type": "code",
   "execution_count": 36,
   "metadata": {
    "execution": {
     "iopub.execute_input": "2023-01-13T09:04:20.406610Z",
     "iopub.status.busy": "2023-01-13T09:04:20.405788Z",
     "iopub.status.idle": "2023-01-13T09:04:20.480335Z",
     "shell.execute_reply": "2023-01-13T09:04:20.479540Z"
    },
    "papermill": {
     "duration": 0.146355,
     "end_time": "2023-01-13T09:04:20.480506",
     "exception": false,
     "start_time": "2023-01-13T09:04:20.334151",
     "status": "completed"
    },
    "tags": []
   },
   "outputs": [],
   "source": [
    "from sklearn.model_selection import train_test_split\n",
    "x1_train,x1_test,y1_train,y1_test=train_test_split(x,y2,test_size=0.2,random_state=44,shuffle=True)"
   ]
  },
  {
   "cell_type": "markdown",
   "metadata": {
    "papermill": {
     "duration": 0.066683,
     "end_time": "2023-01-13T09:04:20.610838",
     "exception": false,
     "start_time": "2023-01-13T09:04:20.544155",
     "status": "completed"
    },
    "tags": []
   },
   "source": [
    "# model 1 build i.e pet_category prediction"
   ]
  },
  {
   "cell_type": "markdown",
   "metadata": {
    "papermill": {
     "duration": 0.06517,
     "end_time": "2023-01-13T09:04:20.741766",
     "exception": false,
     "start_time": "2023-01-13T09:04:20.676596",
     "status": "completed"
    },
    "tags": []
   },
   "source": [
    "* I will not provide the hyperparameter tuning of model. After all, it is a small task for you. I will update it with that.\n",
    "* i think you should try yourself to obtain a good score.\n",
    "* I will just give you an example, but I can't promise that it will give you my final score of 91.06. To achive that, you must do hyperparameter tuning."
   ]
  },
  {
   "cell_type": "code",
   "execution_count": 37,
   "metadata": {
    "execution": {
     "iopub.execute_input": "2023-01-13T09:04:20.872881Z",
     "iopub.status.busy": "2023-01-13T09:04:20.872153Z",
     "iopub.status.idle": "2023-01-13T09:04:21.906141Z",
     "shell.execute_reply": "2023-01-13T09:04:21.906753Z"
    },
    "papermill": {
     "duration": 1.102779,
     "end_time": "2023-01-13T09:04:21.906999",
     "exception": false,
     "start_time": "2023-01-13T09:04:20.804220",
     "status": "completed"
    },
    "tags": []
   },
   "outputs": [],
   "source": [
    "from xgboost import XGBClassifier"
   ]
  },
  {
   "cell_type": "code",
   "execution_count": 38,
   "metadata": {
    "execution": {
     "iopub.execute_input": "2023-01-13T09:04:22.057253Z",
     "iopub.status.busy": "2023-01-13T09:04:22.056234Z",
     "iopub.status.idle": "2023-01-13T09:04:33.432703Z",
     "shell.execute_reply": "2023-01-13T09:04:33.433327Z"
    },
    "papermill": {
     "duration": 11.450782,
     "end_time": "2023-01-13T09:04:33.433596",
     "exception": false,
     "start_time": "2023-01-13T09:04:21.982814",
     "status": "completed"
    },
    "tags": []
   },
   "outputs": [
    {
     "data": {
      "text/plain": [
       "XGBClassifier(base_score=0.5, booster='gbtree', colsample_bylevel=1,\n",
       "              colsample_bynode=1, colsample_bytree=1, gamma=0, gpu_id=-1,\n",
       "              importance_type='gain', interaction_constraints='',\n",
       "              learning_rate=0.300000012, max_delta_step=0, max_depth=6,\n",
       "              min_child_weight=1, missing=nan, monotone_constraints='()',\n",
       "              n_estimators=100, n_jobs=0, num_parallel_tree=1,\n",
       "              objective='multi:softprob', random_state=0, reg_alpha=0,\n",
       "              reg_lambda=1, scale_pos_weight=None, subsample=1,\n",
       "              tree_method='exact', validate_parameters=1, verbosity=None)"
      ]
     },
     "execution_count": 38,
     "metadata": {},
     "output_type": "execute_result"
    }
   ],
   "source": [
    "model1 = XGBClassifier()\n",
    "model1.fit(x1_train, y1_train)"
   ]
  },
  {
   "cell_type": "markdown",
   "metadata": {
    "papermill": {
     "duration": 0.083054,
     "end_time": "2023-01-13T09:04:33.607804",
     "exception": false,
     "start_time": "2023-01-13T09:04:33.524750",
     "status": "completed"
    },
    "tags": []
   },
   "source": [
    "# build 2nd model i.e predict breed_category"
   ]
  },
  {
   "cell_type": "markdown",
   "metadata": {
    "papermill": {
     "duration": 0.063591,
     "end_time": "2023-01-13T09:04:33.738862",
     "exception": false,
     "start_time": "2023-01-13T09:04:33.675271",
     "status": "completed"
    },
    "tags": []
   },
   "source": [
    "We will use the output of **MODEL 1** as an input feature of **MODEL 2** .Trust me, it will increase your score."
   ]
  },
  {
   "cell_type": "markdown",
   "metadata": {
    "papermill": {
     "duration": 0.06594,
     "end_time": "2023-01-13T09:04:33.872279",
     "exception": false,
     "start_time": "2023-01-13T09:04:33.806339",
     "status": "completed"
    },
    "tags": []
   },
   "source": [
    "build new dataset for model 2"
   ]
  },
  {
   "cell_type": "code",
   "execution_count": 39,
   "metadata": {
    "execution": {
     "iopub.execute_input": "2023-01-13T09:04:34.013143Z",
     "iopub.status.busy": "2023-01-13T09:04:34.012125Z",
     "iopub.status.idle": "2023-01-13T09:04:34.350812Z",
     "shell.execute_reply": "2023-01-13T09:04:34.351493Z"
    },
    "papermill": {
     "duration": 0.411078,
     "end_time": "2023-01-13T09:04:34.351709",
     "exception": false,
     "start_time": "2023-01-13T09:04:33.940631",
     "status": "completed"
    },
    "tags": []
   },
   "outputs": [],
   "source": [
    "#new_feat is new feature i.e the predicted pet_category of model 1 for train data\n",
    "new_feat=model1.predict(x)\n",
    "#output1 is new first output i.e the predicted pet_category of model 1 for test data\n",
    "output1=model1.predict(test)\n",
    "#vld1 is validation 1 i.e we'll check score with the predicted result of validation data of model 1\n",
    "vld1=model1.predict(x1_test)"
   ]
  },
  {
   "cell_type": "code",
   "execution_count": 40,
   "metadata": {
    "execution": {
     "iopub.execute_input": "2023-01-13T09:04:34.531117Z",
     "iopub.status.busy": "2023-01-13T09:04:34.530034Z",
     "iopub.status.idle": "2023-01-13T09:04:34.532474Z",
     "shell.execute_reply": "2023-01-13T09:04:34.533207Z"
    },
    "papermill": {
     "duration": 0.093228,
     "end_time": "2023-01-13T09:04:34.533408",
     "exception": false,
     "start_time": "2023-01-13T09:04:34.440180",
     "status": "completed"
    },
    "tags": []
   },
   "outputs": [],
   "source": [
    "x2 = pd.DataFrame(x, columns=names)\n",
    "test2 = pd.DataFrame(test, columns=names)"
   ]
  },
  {
   "cell_type": "code",
   "execution_count": 41,
   "metadata": {
    "execution": {
     "iopub.execute_input": "2023-01-13T09:04:34.679544Z",
     "iopub.status.busy": "2023-01-13T09:04:34.676551Z",
     "iopub.status.idle": "2023-01-13T09:04:34.682528Z",
     "shell.execute_reply": "2023-01-13T09:04:34.683061Z"
    },
    "papermill": {
     "duration": 0.081137,
     "end_time": "2023-01-13T09:04:34.683248",
     "exception": false,
     "start_time": "2023-01-13T09:04:34.602111",
     "status": "completed"
    },
    "tags": []
   },
   "outputs": [],
   "source": [
    "#the predicted pet_category of model 1 for train data is used as a input variable or feature of the train data of model 2\n",
    "x2['output1']=new_feat\n",
    "#the predicted pet_category of model 1 for test data is used as a input variable or feature of the test data of model 2\n",
    "test2['output1']=output1"
   ]
  },
  {
   "cell_type": "markdown",
   "metadata": {
    "papermill": {
     "duration": 0.065155,
     "end_time": "2023-01-13T09:04:34.816994",
     "exception": false,
     "start_time": "2023-01-13T09:04:34.751839",
     "status": "completed"
    },
    "tags": []
   },
   "source": [
    "**split data for model 2**"
   ]
  },
  {
   "cell_type": "code",
   "execution_count": 42,
   "metadata": {
    "execution": {
     "iopub.execute_input": "2023-01-13T09:04:34.952243Z",
     "iopub.status.busy": "2023-01-13T09:04:34.951518Z",
     "iopub.status.idle": "2023-01-13T09:04:34.973195Z",
     "shell.execute_reply": "2023-01-13T09:04:34.972620Z"
    },
    "papermill": {
     "duration": 0.092029,
     "end_time": "2023-01-13T09:04:34.973355",
     "exception": false,
     "start_time": "2023-01-13T09:04:34.881326",
     "status": "completed"
    },
    "tags": []
   },
   "outputs": [],
   "source": [
    "x2_train,x2_test,y2_train,y2_test=train_test_split(x2,y1,test_size=0.2,random_state=44)"
   ]
  },
  {
   "cell_type": "markdown",
   "metadata": {
    "papermill": {
     "duration": 0.063732,
     "end_time": "2023-01-13T09:04:35.105125",
     "exception": false,
     "start_time": "2023-01-13T09:04:35.041393",
     "status": "completed"
    },
    "tags": []
   },
   "source": [
    "**Build model 2 and train the model with new data**"
   ]
  },
  {
   "cell_type": "code",
   "execution_count": 43,
   "metadata": {
    "execution": {
     "iopub.execute_input": "2023-01-13T09:04:35.247723Z",
     "iopub.status.busy": "2023-01-13T09:04:35.246906Z",
     "iopub.status.idle": "2023-01-13T09:04:42.039847Z",
     "shell.execute_reply": "2023-01-13T09:04:42.040526Z"
    },
    "papermill": {
     "duration": 6.867665,
     "end_time": "2023-01-13T09:04:42.040727",
     "exception": false,
     "start_time": "2023-01-13T09:04:35.173062",
     "status": "completed"
    },
    "tags": []
   },
   "outputs": [
    {
     "data": {
      "text/plain": [
       "XGBClassifier(base_score=0.5, booster='gbtree', colsample_bylevel=1,\n",
       "              colsample_bynode=1, colsample_bytree=1, gamma=0, gpu_id=-1,\n",
       "              importance_type='gain', interaction_constraints='',\n",
       "              learning_rate=0.300000012, max_delta_step=0, max_depth=6,\n",
       "              min_child_weight=1, missing=nan, monotone_constraints='()',\n",
       "              n_estimators=100, n_jobs=0, num_parallel_tree=1,\n",
       "              objective='multi:softprob', random_state=0, reg_alpha=0,\n",
       "              reg_lambda=1, scale_pos_weight=None, subsample=1,\n",
       "              tree_method='exact', validate_parameters=1, verbosity=None)"
      ]
     },
     "execution_count": 43,
     "metadata": {},
     "output_type": "execute_result"
    }
   ],
   "source": [
    "model2 = XGBClassifier()\n",
    "model2.fit(x2_train, y2_train)"
   ]
  },
  {
   "cell_type": "code",
   "execution_count": 44,
   "metadata": {
    "execution": {
     "iopub.execute_input": "2023-01-13T09:04:42.222662Z",
     "iopub.status.busy": "2023-01-13T09:04:42.220900Z",
     "iopub.status.idle": "2023-01-13T09:04:42.324694Z",
     "shell.execute_reply": "2023-01-13T09:04:42.325441Z"
    },
    "papermill": {
     "duration": 0.198874,
     "end_time": "2023-01-13T09:04:42.325646",
     "exception": false,
     "start_time": "2023-01-13T09:04:42.126772",
     "status": "completed"
    },
    "tags": []
   },
   "outputs": [],
   "source": [
    "#output 2 is the predicted breed_category of model 2 for test data\n",
    "output2=model2.predict(test)\n",
    "#vld2 is validation 2 i.e we'll check score with the predicted result of validation data of model 2\n",
    "vld2=model2.predict(x2_test)"
   ]
  },
  {
   "cell_type": "markdown",
   "metadata": {
    "papermill": {
     "duration": 0.083402,
     "end_time": "2023-01-13T09:04:42.495840",
     "exception": false,
     "start_time": "2023-01-13T09:04:42.412438",
     "status": "completed"
    },
    "tags": []
   },
   "source": [
    "# Check Accuracy"
   ]
  },
  {
   "cell_type": "code",
   "execution_count": 45,
   "metadata": {
    "execution": {
     "iopub.execute_input": "2023-01-13T09:04:42.639079Z",
     "iopub.status.busy": "2023-01-13T09:04:42.638006Z",
     "iopub.status.idle": "2023-01-13T09:04:42.640560Z",
     "shell.execute_reply": "2023-01-13T09:04:42.641183Z"
    },
    "papermill": {
     "duration": 0.074303,
     "end_time": "2023-01-13T09:04:42.641338",
     "exception": false,
     "start_time": "2023-01-13T09:04:42.567035",
     "status": "completed"
    },
    "tags": []
   },
   "outputs": [],
   "source": [
    "from sklearn.metrics  import f1_score"
   ]
  },
  {
   "cell_type": "code",
   "execution_count": 46,
   "metadata": {
    "execution": {
     "iopub.execute_input": "2023-01-13T09:04:42.778351Z",
     "iopub.status.busy": "2023-01-13T09:04:42.777294Z",
     "iopub.status.idle": "2023-01-13T09:04:42.791844Z",
     "shell.execute_reply": "2023-01-13T09:04:42.792443Z"
    },
    "papermill": {
     "duration": 0.08289,
     "end_time": "2023-01-13T09:04:42.792656",
     "exception": false,
     "start_time": "2023-01-13T09:04:42.709766",
     "status": "completed"
    },
    "tags": []
   },
   "outputs": [
    {
     "data": {
      "text/plain": [
       "90.43734390069241"
      ]
     },
     "execution_count": 46,
     "metadata": {},
     "output_type": "execute_result"
    }
   ],
   "source": [
    "s1=f1_score(y1_test,vld1,average='weighted')\n",
    "s2=f1_score(y2_test,vld2,average='weighted')\n",
    "accuracy=100*((s1+s2)/2)\n",
    "accuracy"
   ]
  },
  {
   "cell_type": "markdown",
   "metadata": {
    "papermill": {
     "duration": 0.065443,
     "end_time": "2023-01-13T09:04:42.926714",
     "exception": false,
     "start_time": "2023-01-13T09:04:42.861271",
     "status": "completed"
    },
    "tags": []
   },
   "source": [
    "without any hyperparameter tuning,it shows a good score.let's create a submission file"
   ]
  },
  {
   "cell_type": "markdown",
   "metadata": {
    "papermill": {
     "duration": 0.06841,
     "end_time": "2023-01-13T09:04:43.064221",
     "exception": false,
     "start_time": "2023-01-13T09:04:42.995811",
     "status": "completed"
    },
    "tags": []
   },
   "source": [
    "# Create Submission file"
   ]
  },
  {
   "cell_type": "code",
   "execution_count": 47,
   "metadata": {
    "execution": {
     "iopub.execute_input": "2023-01-13T09:04:43.204352Z",
     "iopub.status.busy": "2023-01-13T09:04:43.203674Z",
     "iopub.status.idle": "2023-01-13T09:04:43.280920Z",
     "shell.execute_reply": "2023-01-13T09:04:43.280291Z"
    },
    "papermill": {
     "duration": 0.151017,
     "end_time": "2023-01-13T09:04:43.281067",
     "exception": false,
     "start_time": "2023-01-13T09:04:43.130050",
     "status": "completed"
    },
    "tags": []
   },
   "outputs": [],
   "source": [
    "sub_new=pd.DataFrame({\n",
    "    \"pet_id\":test_id,\n",
    "    \"breed_category\":output2,\n",
    "    \"pet_category\":output1\n",
    "})\n",
    "sub_new.to_csv(\"sub_new.csv\",index=False)"
   ]
  },
  {
   "cell_type": "markdown",
   "metadata": {
    "papermill": {
     "duration": 0.067199,
     "end_time": "2023-01-13T09:04:43.415107",
     "exception": false,
     "start_time": "2023-01-13T09:04:43.347908",
     "status": "completed"
    },
    "tags": []
   },
   "source": [
    "ok.wait,i am going to submit it on hackerearth"
   ]
  },
  {
   "cell_type": "markdown",
   "metadata": {
    "papermill": {
     "duration": 0.068866,
     "end_time": "2023-01-13T09:04:43.551925",
     "exception": false,
     "start_time": "2023-01-13T09:04:43.483059",
     "status": "completed"
    },
    "tags": []
   },
   "source": [
    "# Oh WOW! without any hyperparameter tuning,Hackerearth shows 90.67787"
   ]
  },
  {
   "attachments": {
    "image.png": {
     "image/png": "[encoded data removed]"
    }
   },
   "cell_type": "markdown",
   "metadata": {
    "papermill": {
     "duration": 0.06577,
     "end_time": "2023-01-13T09:04:43.682954",
     "exception": false,
     "start_time": "2023-01-13T09:04:43.617184",
     "status": "completed"
    },
    "tags": []
   },
   "source": [
    "![image.png](attachment:image.png)"
   ]
  },
  {
   "cell_type": "markdown",
   "metadata": {
    "papermill": {
     "duration": 0.066442,
     "end_time": "2023-01-13T09:04:43.818093",
     "exception": false,
     "start_time": "2023-01-13T09:04:43.751651",
     "status": "completed"
    },
    "tags": []
   },
   "source": [
    "# some tips"
   ]
  },
  {
   "cell_type": "markdown",
   "metadata": {
    "papermill": {
     "duration": 0.070479,
     "end_time": "2023-01-13T09:04:43.955644",
     "exception": false,
     "start_time": "2023-01-13T09:04:43.885165",
     "status": "completed"
    },
    "tags": []
   },
   "source": [
    "* Use the predicted output of 'pet_catagory' as a feature of model 2 i.e., predict 'breed_catagory'\n",
    "* BUT if you use 'breed_catagory' as a feature of model 2 i.e., predict 'pet_catagory' it will not give you a good score.\n",
    "* I checked both and found it"
   ]
  },
  {
   "cell_type": "markdown",
   "metadata": {
    "papermill": {
     "duration": 0.06547,
     "end_time": "2023-01-13T09:04:44.088518",
     "exception": false,
     "start_time": "2023-01-13T09:04:44.023048",
     "status": "completed"
    },
    "tags": []
   },
   "source": [
    "let's see,the outputs"
   ]
  },
  {
   "cell_type": "code",
   "execution_count": 48,
   "metadata": {
    "execution": {
     "iopub.execute_input": "2023-01-13T09:04:44.228140Z",
     "iopub.status.busy": "2023-01-13T09:04:44.227122Z",
     "iopub.status.idle": "2023-01-13T09:04:44.231891Z",
     "shell.execute_reply": "2023-01-13T09:04:44.231201Z"
    },
    "papermill": {
     "duration": 0.078542,
     "end_time": "2023-01-13T09:04:44.232018",
     "exception": false,
     "start_time": "2023-01-13T09:04:44.153476",
     "status": "completed"
    },
    "tags": []
   },
   "outputs": [
    {
     "data": {
      "text/plain": [
       "0.0    9000\n",
       "1.0    8357\n",
       "2.0    1477\n",
       "Name: breed_category, dtype: int64"
      ]
     },
     "execution_count": 48,
     "metadata": {},
     "output_type": "execute_result"
    }
   ],
   "source": [
    "y1.value_counts()"
   ]
  },
  {
   "cell_type": "code",
   "execution_count": 49,
   "metadata": {
    "execution": {
     "iopub.execute_input": "2023-01-13T09:04:44.375510Z",
     "iopub.status.busy": "2023-01-13T09:04:44.372753Z",
     "iopub.status.idle": "2023-01-13T09:04:44.381653Z",
     "shell.execute_reply": "2023-01-13T09:04:44.380988Z"
    },
    "papermill": {
     "duration": 0.081476,
     "end_time": "2023-01-13T09:04:44.381805",
     "exception": false,
     "start_time": "2023-01-13T09:04:44.300329",
     "status": "completed"
    },
    "tags": []
   },
   "outputs": [
    {
     "data": {
      "text/plain": [
       "2    10621\n",
       "1     7184\n",
       "4      941\n",
       "0       88\n",
       "Name: pet_category, dtype: int64"
      ]
     },
     "execution_count": 49,
     "metadata": {},
     "output_type": "execute_result"
    }
   ],
   "source": [
    "y2.value_counts()"
   ]
  },
  {
   "cell_type": "markdown",
   "metadata": {
    "papermill": {
     "duration": 0.065512,
     "end_time": "2023-01-13T09:04:44.515554",
     "exception": false,
     "start_time": "2023-01-13T09:04:44.450042",
     "status": "completed"
    },
    "tags": []
   },
   "source": [
    "* You can clearly see it is an imbalanced data.\n",
    "* To handle this imbalanced data, I have used SMOTE, OVERSAMPLING, UNDERSAMPLING, but they don't give me better score also.\n",
    "* So, you must select a good cross-validation where all the labels come as a sample of same amount.\n"
   ]
  },
  {
   "cell_type": "markdown",
   "metadata": {
    "papermill": {
     "duration": 0.068066,
     "end_time": "2023-01-13T09:04:44.649344",
     "exception": false,
     "start_time": "2023-01-13T09:04:44.581278",
     "status": "completed"
    },
    "tags": []
   },
   "source": [
    "Let's check skewness"
   ]
  },
  {
   "cell_type": "code",
   "execution_count": 50,
   "metadata": {
    "execution": {
     "iopub.execute_input": "2023-01-13T09:04:44.789051Z",
     "iopub.status.busy": "2023-01-13T09:04:44.788003Z",
     "iopub.status.idle": "2023-01-13T09:04:44.792027Z",
     "shell.execute_reply": "2023-01-13T09:04:44.792594Z"
    },
    "papermill": {
     "duration": 0.076479,
     "end_time": "2023-01-13T09:04:44.792763",
     "exception": false,
     "start_time": "2023-01-13T09:04:44.716284",
     "status": "completed"
    },
    "tags": []
   },
   "outputs": [],
   "source": [
    "from scipy.stats import skew"
   ]
  },
  {
   "cell_type": "code",
   "execution_count": 51,
   "metadata": {
    "execution": {
     "iopub.execute_input": "2023-01-13T09:04:44.933523Z",
     "iopub.status.busy": "2023-01-13T09:04:44.932439Z",
     "iopub.status.idle": "2023-01-13T09:04:44.940556Z",
     "shell.execute_reply": "2023-01-13T09:04:44.939766Z"
    },
    "papermill": {
     "duration": 0.082578,
     "end_time": "2023-01-13T09:04:44.940702",
     "exception": false,
     "start_time": "2023-01-13T09:04:44.858124",
     "status": "completed"
    },
    "tags": []
   },
   "outputs": [
    {
     "data": {
      "text/plain": [
       "(0.5590984120168632, 1.2303885316219323)"
      ]
     },
     "execution_count": 51,
     "metadata": {},
     "output_type": "execute_result"
    }
   ],
   "source": [
    "y1.skew(axis = 0, skipna = True),y2.skew(axis = 0, skipna = True)"
   ]
  },
  {
   "cell_type": "markdown",
   "metadata": {
    "papermill": {
     "duration": 0.06595,
     "end_time": "2023-01-13T09:04:45.075893",
     "exception": false,
     "start_time": "2023-01-13T09:04:45.009943",
     "status": "completed"
    },
    "tags": []
   },
   "source": [
    "It shows, there is skewness of labels. To handle it, I used LOG Transformation(log1p of numpy). But it didn't give me better score than before"
   ]
  },
  {
   "cell_type": "code",
   "execution_count": null,
   "metadata": {
    "papermill": {
     "duration": 0.065819,
     "end_time": "2023-01-13T09:04:45.208023",
     "exception": false,
     "start_time": "2023-01-13T09:04:45.142204",
     "status": "completed"
    },
    "tags": []
   },
   "outputs": [],
   "source": []
  },
  {
   "cell_type": "markdown",
   "metadata": {
    "papermill": {
     "duration": 0.065459,
     "end_time": "2023-01-13T09:04:45.340223",
     "exception": false,
     "start_time": "2023-01-13T09:04:45.274764",
     "status": "completed"
    },
    "tags": []
   },
   "source": [
    "* I also used PCA, TruncatedSVD for dimension reduction and feature sclection.\n",
    "* It gave me poor score.\n",
    "* you must do feature selection considering the correlation of features."
   ]
  },
  {
   "cell_type": "code",
   "execution_count": null,
   "metadata": {
    "papermill": {
     "duration": 0.066605,
     "end_time": "2023-01-13T09:04:45.473509",
     "exception": false,
     "start_time": "2023-01-13T09:04:45.406904",
     "status": "completed"
    },
    "tags": []
   },
   "outputs": [],
   "source": []
  },
  {
   "cell_type": "markdown",
   "metadata": {
    "papermill": {
     "duration": 0.066214,
     "end_time": "2023-01-13T09:04:45.606015",
     "exception": false,
     "start_time": "2023-01-13T09:04:45.539801",
     "status": "completed"
    },
    "tags": []
   },
   "source": [
    "* To handle missing values, I used KnnImputer. But it doesn't results good score.\n",
    "* First, I filled the missing values with 3 as a unique variable. But I achived a good score by filling it with -1."
   ]
  },
  {
   "cell_type": "code",
   "execution_count": null,
   "metadata": {
    "papermill": {
     "duration": 0.068121,
     "end_time": "2023-01-13T09:04:45.740356",
     "exception": false,
     "start_time": "2023-01-13T09:04:45.672235",
     "status": "completed"
    },
    "tags": []
   },
   "outputs": [],
   "source": []
  },
  {
   "cell_type": "code",
   "execution_count": null,
   "metadata": {
    "papermill": {
     "duration": 0.067258,
     "end_time": "2023-01-13T09:04:45.875821",
     "exception": false,
     "start_time": "2023-01-13T09:04:45.808563",
     "status": "completed"
    },
    "tags": []
   },
   "outputs": [],
   "source": []
  },
  {
   "cell_type": "code",
   "execution_count": null,
   "metadata": {
    "collapsed": true,
    "jupyter": {
     "outputs_hidden": true
    },
    "papermill": {
     "duration": 0.069431,
     "end_time": "2023-01-13T09:04:46.013509",
     "exception": false,
     "start_time": "2023-01-13T09:04:45.944078",
     "status": "completed"
    },
    "tags": []
   },
   "outputs": [],
   "source": []
  },
  {
   "cell_type": "markdown",
   "metadata": {
    "papermill": {
     "duration": 0.071263,
     "end_time": "2023-01-13T09:04:46.153453",
     "exception": false,
     "start_time": "2023-01-13T09:04:46.082190",
     "status": "completed"
    },
    "tags": []
   },
   "source": [
    "* At the beginning of the competition, I ran my model with Logistic Regression, KNN, Support Vector Machine. It resulted a poor score and couldn't cross 80 score.\n",
    "* After using randomforestclassifier,it is around 88-89 score.\n",
    "* But after checking with XgboostClassifier, Adaboost, Lightgbm, CatboostClassifier, etc. tree based models, I have achieved a better score above 90. So,you should try tree-based models I think."
   ]
  },
  {
   "cell_type": "code",
   "execution_count": null,
   "metadata": {
    "papermill": {
     "duration": 0.078952,
     "end_time": "2023-01-13T09:04:46.320855",
     "exception": false,
     "start_time": "2023-01-13T09:04:46.241903",
     "status": "completed"
    },
    "tags": []
   },
   "outputs": [],
   "source": []
  },
  {
   "cell_type": "markdown",
   "metadata": {
    "papermill": {
     "duration": 0.075122,
     "end_time": "2023-01-13T09:04:46.487837",
     "exception": false,
     "start_time": "2023-01-13T09:04:46.412715",
     "status": "completed"
    },
    "tags": []
   },
   "source": [
    "Last of all,you must do hyperparameter tuning to earned an excellent score.."
   ]
  },
  {
   "cell_type": "code",
   "execution_count": null,
   "metadata": {
    "papermill": {
     "duration": 0.080082,
     "end_time": "2023-01-13T09:04:46.637402",
     "exception": false,
     "start_time": "2023-01-13T09:04:46.557320",
     "status": "completed"
    },
    "tags": []
   },
   "outputs": [],
   "source": []
  },
  {
   "cell_type": "markdown",
   "metadata": {
    "papermill": {
     "duration": 0.104398,
     "end_time": "2023-01-13T09:04:46.809934",
     "exception": false,
     "start_time": "2023-01-13T09:04:46.705536",
     "status": "completed"
    },
    "tags": []
   },
   "source": [
    "Finally, a free advise for the beginners(I am also a beginner after all),keep learning new things what found in this notebook and keep practicing. Try to achive better score than me and share your ideas with me..."
   ]
  },
  {
   "cell_type": "markdown",
   "metadata": {
    "papermill": {
     "duration": 0.067758,
     "end_time": "2023-01-13T09:04:46.958227",
     "exception": false,
     "start_time": "2023-01-13T09:04:46.890469",
     "status": "completed"
    },
    "tags": []
   },
   "source": [
    "# This is my first notebook of my life. I am just a beginner.So,if I made any mistake,please inform me. I will be glad. Please Upvote and Share this with others."
   ]
  }
 ],
 "metadata": {
  "kernelspec": {
   "display_name": "Python 3",
   "language": "python",
   "name": "python3"
  },
  "language_info": {
   "codemirror_mode": {
    "name": "ipython",
    "version": 3
   },
   "file_extension": ".py",
   "mimetype": "text/x-python",
   "name": "python",
   "nbconvert_exporter": "python",
   "pygments_lexer": "ipython3",
   "version": "3.7.6"
  },
  "papermill": {
   "duration": 42.456814,
   "end_time": "2023-01-13T09:04:47.137806",
   "environment_variables": {},
   "exception": null,
   "input_path": "__notebook__.ipynb",
   "output_path": "__notebook__.ipynb",
   "parameters": {},
   "start_time": "2023-01-13T09:04:04.680992",
   "version": "2.1.0"
  }
 },
 "nbformat": 4,
 "nbformat_minor": 4
}
